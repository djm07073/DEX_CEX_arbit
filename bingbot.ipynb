{
 "cells": [
  {
   "cell_type": "code",
   "execution_count": null,
   "metadata": {
    "collapsed": true
   },
   "outputs": [],
   "source": []
  },
  {
   "cell_type": "code",
   "execution_count": null,
   "outputs": [],
   "source": [
    "from collections import defaultdict\n",
    "\n",
    "import ccxt\n",
    "import requests\n",
    "import telegram\n",
    "\n",
    "BOT_TOKEN = \"텔레그램 토큰\"\n",
    "CHAT_ID = \"텔레그램 채팅 ID\"\n",
    "BINGX_API_URL = \"https://api.bingbon.com/api/coingecko/v1/derivatives/contracts\"\n",
    "BINGX_PERP_API_URL = \"https://api-swap-rest.bingbon.pro/api/v1/market/getAllContracts\"\n",
    "BINGX_PERP_TICKER_API_URL=\"https://api-swap-rest.bingbon.pro/api/v1/market/getLatestPrice?symbol=\"\n",
    "GAP = 0.02\n",
    "\n",
    "BN = ccxt.binanceusdm()\n",
    "BingX = requests.get(BINGX_API_URL)\n",
    "\n",
    "pairs = defaultdict(dict)\n",
    "bing_data = BingX.json()[\"result\"]\n",
    "for data in bing_data:\n",
    "    symbol = f\"{data['base_currency']}\"\n",
    "    pairs[symbol][\"bing\"] = float(data[\"last_price\"])\n",
    "\n",
    "BINGX_PERP = \\\n",
    "    [x[\"name\"] for x in\n",
    "     requests.get(\"https://api-swap-rest.bingbon.pro/api/v1/market/getAllContracts\").\n",
    "         json()[\"data\"][\"contracts\"]]\n",
    "\n",
    "for data in BINGX_PERP:\n",
    "    res = requests.get(BINGX_PERP_TICKER_API_URL + f\"{data}-USDT\").json()\n",
    "    pairs[data][\"bing\"] = float(res[\"data\"][\"tradePrice\"])\n",
    "\n",
    "bn_symbol_list = \\\n",
    "    [f\"{symbol}/USDT\" for symbol in pairs if f\"{symbol}/USDT\" in BN.load_markets() and f\"{symbol}/USDT\"]\n",
    "binance_data = BN.fetch_tickers(bn_symbol_list)\n",
    "for symbol, data in binance_data.items():\n",
    "    symbol = symbol.replace(\"/USDT\", \"\")\n",
    "    pairs[symbol][\"bn\"] = float(data[\"info\"][\"lastPrice\"])\n",
    "\n",
    "bn_gap_list = dict()\n",
    "for ticker, price in pairs.items():\n",
    "    if \"bn\" in price:\n",
    "        div_price = max(price[\"bing\"], price[\"bn\"]) / min(price[\"bing\"], price[\"bn\"])\n",
    "\n",
    "        if GAP <= div_price - 1:\n",
    "            price[\"bn_gap\"] = f\"{round(div_price - 1, 2)}%\"\n",
    "            bn_gap_list[ticker] = price\n",
    "\n",
    "if bn_gap_list:\n",
    "    bot = telegram.Bot(token=BOT_TOKEN)\n",
    "    text = \"빙 선선 갭 알림\\n\\n\"\n",
    "    if bn_gap_list:\n",
    "        for ticker, price in bn_gap_list.items():\n",
    "            text += f\"{ticker} - GAP : {price['bn_gap']} / Binance : {price['bn']} - Bing : {price['bing']}\\n\"\n",
    "        text += \"\\n\"\n",
    "\n",
    "    bot.sendMessage(chat_id=CHAT_ID, text=text)"
   ],
   "metadata": {
    "collapsed": false
   }
  }
 ],
 "metadata": {
  "kernelspec": {
   "display_name": "Python 3",
   "language": "python",
   "name": "python3"
  },
  "language_info": {
   "codemirror_mode": {
    "name": "ipython",
    "version": 2
   },
   "file_extension": ".py",
   "mimetype": "text/x-python",
   "name": "python",
   "nbconvert_exporter": "python",
   "pygments_lexer": "ipython2",
   "version": "2.7.6"
  }
 },
 "nbformat": 4,
 "nbformat_minor": 0
}
